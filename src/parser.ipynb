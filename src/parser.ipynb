{
 "cells": [
  {
   "cell_type": "markdown",
   "metadata": {},
   "source": [
    "**Importy**"
   ]
  },
  {
   "cell_type": "code",
   "execution_count": 1,
   "metadata": {
    "pycharm": {
     "name": "#%%\n"
    }
   },
   "outputs": [],
   "source": [
    "import regex\n",
    "import json, ast\n",
    "from csv import writer\n",
    "import pandas as pd \n",
    "import numpy as np\n",
    "from stop_words import get_stop_words"
   ]
  },
  {
   "cell_type": "code",
   "execution_count": 2,
   "metadata": {
    "pycharm": {
     "name": "#%%\n"
    }
   },
   "outputs": [],
   "source": [
    "import majka\n",
    "from majka import Majka\n",
    "morph = Majka('../data/w-lt.sk.fsa')\n",
    "\n",
    "morph.flags |= majka.ADD_DIACRITICS  # find word forms with diacritics\n",
    "morph.flags |= majka.DISALLOW_LOWERCASE  # do not enable to find lowercase variants\n",
    "morph.flags |= majka.IGNORE_CASE  # ignore the word case whatsoever\n",
    "morph.flags = 0  # unset all flags\n",
    "\n",
    "morph.tags = False  # return just the lemma, do not process the tags\n",
    "# morph.tags = True  # turn tag processing back on (default)\n",
    "\n",
    "morph.first_only = True  # return only the first entry\n",
    "# morph.first_only = False  # return all entries (default)"
   ]
  },
  {
   "cell_type": "code",
   "execution_count": 3,
   "metadata": {
    "pycharm": {
     "name": "#%%\n"
    }
   },
   "outputs": [
    {
     "name": "stderr",
     "output_type": "stream",
     "text": [
      "INFO:corpy.morphodita:Loading tagger.\n"
     ]
    }
   ],
   "source": [
    "from corpy.morphodita import Tagger\n",
    "tagger = Tagger(\"../data/slovak-morfflex-pdt-170914.tagger\")"
   ]
  },
  {
   "cell_type": "code",
   "execution_count": 4,
   "metadata": {
    "pycharm": {
     "name": "#%%\n"
    }
   },
   "outputs": [
    {
     "name": "stderr",
     "output_type": "stream",
     "text": [
      "[nltk_data] Downloading package punkt to\n",
      "[nltk_data]     C:\\Users\\rusna\\AppData\\Roaming\\nltk_data...\n",
      "[nltk_data]   Package punkt is already up-to-date!\n"
     ]
    },
    {
     "data": {
      "text/plain": [
       "True"
      ]
     },
     "execution_count": 4,
     "metadata": {},
     "output_type": "execute_result"
    }
   ],
   "source": [
    "import nltk\n",
    "nltk.download('punkt')\n",
    "# nltk.download('wordnet')"
   ]
  },
  {
   "cell_type": "markdown",
   "metadata": {},
   "source": [
    "**Premenne**"
   ]
  },
  {
   "cell_type": "code",
   "execution_count": 5,
   "metadata": {
    "pycharm": {
     "name": "#%%\n"
    }
   },
   "outputs": [],
   "source": [
    "# file s jednou page\n",
    "debug_filepath = \"../data/test_data_1page.xml\"\n",
    "# cely file\n",
    "input_filepath = \"../data/skwiki-latest-pages-articles.xml\"\n",
    "output_filepath = \"../data/anchors.csv\"\n",
    "THRESHOLD = 2"
   ]
  },
  {
   "cell_type": "markdown",
   "metadata": {},
   "source": [
    "**Funkcie**"
   ]
  },
  {
   "cell_type": "code",
   "execution_count": 6,
   "metadata": {},
   "outputs": [],
   "source": [
    "# otvorenie suboru, zadefinovanie hlavicky csv suboru a nasledne citanie s pracovanie po riadkoch\n",
    "def open_read(input_filepath,output_filepath,process):\n",
    "    with open(input_filepath, encoding='UTF-8') as input_file ,open(output_filepath, 'w+', encoding='UTF-8' ) as output_file:\n",
    "        csv_writer = writer(output_file, delimiter='|')\n",
    "        csv_writer.writerow([\"Link\", \"Alt_Text\"])\n",
    "        for line in input_file:\n",
    "            process(line,csv_writer)"
   ]
  },
  {
   "cell_type": "code",
   "execution_count": 7,
   "metadata": {
    "pycharm": {
     "name": "#%%\n"
    }
   },
   "outputs": [],
   "source": [
    "# využitie regexu na nájdene všetkých zhôd v riadku a zapísanie do csv súboru. \n",
    "def process(line,csv_writer):\n",
    "    regex_patern = '\\[\\[([^|\\]\\]]+)\\|?([^|\\]\\]]+)?\\]\\]'\n",
    "    #\\[\\[([^|\\]\\]]+)\\|?([^|\\]\\]]+)?\\]\\]   #\\[\\[([\\p{L}:\\s\\{\\}\\.\\/\\(\\)]+)\\|?([^\\]]*)?\\]\\]\n",
    "    matches = regex.findall(regex_patern, line) \n",
    "    for match in matches:\n",
    "        list_matche = list(filter(None, match))\n",
    "        \n",
    "        \n",
    "        csv_writer.writerow(list_matche)"
   ]
  },
  {
   "cell_type": "code",
   "execution_count": 8,
   "metadata": {
    "pycharm": {
     "name": "#%%\n"
    }
   },
   "outputs": [],
   "source": [
    "# funkcia pre upravu textu\n",
    "def replace(text, regex_pattern, substitution):\n",
    "    if not isinstance(text, str):\n",
    "        return text\n",
    "    return regex.sub(regex_pattern,substitution,text)"
   ]
  },
  {
   "cell_type": "code",
   "execution_count": 19,
   "metadata": {
    "pycharm": {
     "name": "#%%\n"
    }
   },
   "outputs": [],
   "source": [
    "# funkcia pre tokenizovanie textu. Text -> Vety -> Slova (Tokeny) vyuzitim nltk \n",
    "def tokenizer_modded(text):\n",
    "#     print('text:', text)\n",
    "    if not pd.isna(text):\n",
    "#         print(type(text))\n",
    "        \n",
    "        if isinstance(text, int) or isinstance(text, float):\n",
    "            text = str(text)\n",
    "            \n",
    "    \n",
    "        sentences = nltk.sent_tokenize(text)\n",
    "#         print('sentence:',sentences)\n",
    "        tokens = []\n",
    "        for sent in sentences:\n",
    "            tokens.append(nltk.word_tokenize(sent))\n",
    "        flatten_list = [j for sub in tokens for j in sub] \n",
    "#         print('list',flatten_list)\n",
    "\n",
    "        result = [token.lower() for token in flatten_list if token not in \".,?!...-nan\"]\n",
    "\n",
    "        return result\n",
    "    else:\n",
    "        return []"
   ]
  },
  {
   "cell_type": "code",
   "execution_count": 10,
   "metadata": {
    "pycharm": {
     "name": "#%%\n"
    }
   },
   "outputs": [],
   "source": [
    "# lematizovanie textu s odstranenim stop slov. Vyuziva sa majka so Slovenskym Slovnikom\n",
    "def lematizer_modded(text):\n",
    "    stop_words = get_stop_words('sk')\n",
    "\n",
    "    result = []\n",
    "    for word in ast.literal_eval(text):\n",
    "        morph_word = morph.find(word)\n",
    "#         Aktualne slova ktore nemaju lemu, budu mat povodny tvar.\n",
    "        if morph_word:\n",
    "            result.append(morph_word[0]['lemma'])\n",
    "        else:\n",
    "            if hashmap_unlem[word] > THRESHOLD:\n",
    "                result.append(word)\n",
    "            \n",
    "    for word in result:  # odstranenie stopslov\n",
    "        if word in stop_words:\n",
    "            result.remove(word)\n",
    "    return result"
   ]
  },
  {
   "cell_type": "code",
   "execution_count": 20,
   "metadata": {
    "pycharm": {
     "name": "#%%\n"
    }
   },
   "outputs": [],
   "source": [
    "def fill_hashmap(text):\n",
    "  \n",
    "    for word in text:\n",
    "        morph_word = morph.find(word)\n",
    "        if morph_word == []:\n",
    "            \n",
    "            if not word in hashmap_unlem:\n",
    "                hashmap_unlem[word] = 1\n",
    "            else:\n",
    "                if hashmap_unlem[word] <= THRESHOLD:\n",
    "                    hashmap_unlem[word] += 1 \n",
    "\n",
    "    "
   ]
  },
  {
   "cell_type": "code",
   "execution_count": 12,
   "metadata": {
    "pycharm": {
     "name": "#%%\n"
    }
   },
   "outputs": [],
   "source": [
    "def process_data(df):\n",
    "    for column in df:\n",
    "        df[column] = df[column] \\\n",
    "        .apply(lambda x: x if x is not np.NaN else None) \\\n",
    "        .apply(replace,regex_pattern = r\"[\\\\\\/\\(\\):#.\\_?!]|({{.*}})|\\d*px\\d*png\\d*svg\\d*jpg\",substitution =' ')\\\n",
    "        .apply(replace,regex_pattern = r\"([ ]+)\",substitution =' ')\\\n",
    "        \n",
    "    return df"
   ]
  },
  {
   "cell_type": "code",
   "execution_count": 13,
   "metadata": {
    "pycharm": {
     "name": "#%%\n"
    }
   },
   "outputs": [],
   "source": [
    "def tokenize_data(df):\n",
    "    for column in df:\n",
    "        df[column] = df[column] \\\n",
    "        .apply(lambda text: tokenizer_modded(text) if text is not None else [] )\n",
    "        \n",
    "    return df"
   ]
  },
  {
   "cell_type": "code",
   "execution_count": 14,
   "metadata": {
    "pycharm": {
     "name": "#%%\n"
    }
   },
   "outputs": [],
   "source": [
    "def lemetize_data(df):\n",
    "    for column in df:\n",
    "        df[column] = df[column] \\\n",
    "        .apply(lambda text: lematizer_modded(text) )\n",
    "        \n",
    "    return df"
   ]
  },
  {
   "cell_type": "code",
   "execution_count": 15,
   "metadata": {
    "pycharm": {
     "name": "#%%\n"
    }
   },
   "outputs": [],
   "source": [
    "def create_hashmap(df):\n",
    "    for column in df:\n",
    "#         print(column)\n",
    "        df[column] \\\n",
    "        .apply(lambda text: fill_hashmap(text) )\n",
    "        \n"
   ]
  },
  {
   "cell_type": "markdown",
   "metadata": {},
   "source": [
    "**Priebeh spracovania**"
   ]
  },
  {
   "cell_type": "code",
   "execution_count": 16,
   "metadata": {
    "pycharm": {
     "name": "#%%\n"
    }
   },
   "outputs": [],
   "source": [
    "open_read(input_filepath,output_filepath,process)"
   ]
  },
  {
   "cell_type": "code",
   "execution_count": 22,
   "metadata": {
    "pycharm": {
     "name": "#%%\n"
    }
   },
   "outputs": [],
   "source": [
    "# spracovanie suboru po chunkoch a postupne ukladanie vysledkov do csv\n",
    "hashmap_unlem = {}  \n",
    "for index,chunk in enumerate(pd.read_csv(output_filepath, chunksize=15, delimiter='|')):\n",
    "    \n",
    "\n",
    "    process_data(chunk)\n",
    "    chunk = tokenize_data(chunk)\n",
    "    create_hashmap(chunk)\n",
    "    chunk.to_csv('../data/tokenized_data.csv', mode = 'a+', index=False, header=False, encoding='UTF-8')\n",
    "\n",
    "\n"
   ]
  },
  {
   "cell_type": "code",
   "execution_count": 25,
   "metadata": {
    "pycharm": {
     "name": "#%%\n"
    }
   },
   "outputs": [],
   "source": [
    "for index,chunk in enumerate(pd.read_csv('../data/tokenized_data.csv',chunksize=15, names=[\"Link\",\"Alt_Text\"])):\n",
    "    \n",
    "\n",
    "    lemetize_data(chunk)\n",
    "    \n",
    "#     print('chunk ------------------------------------------------------------------------------',index)    \n",
    "#     print(chunk)\n",
    "    chunk.to_csv('../data/done.csv', mode = 'a+', index=False, encoding='UTF-8')"
   ]
  },
  {
   "cell_type": "code",
   "execution_count": null,
   "metadata": {
    "pycharm": {
     "name": "#%%\n"
    }
   },
   "outputs": [],
   "source": []
  },
  {
   "cell_type": "code",
   "execution_count": null,
   "metadata": {
    "pycharm": {
     "name": "#%%\n"
    }
   },
   "outputs": [],
   "source": []
  }
 ],
 "metadata": {
  "kernelspec": {
   "display_name": "Python 3",
   "language": "python",
   "name": "python3"
  },
  "language_info": {
   "codemirror_mode": {
    "name": "ipython",
    "version": 3
   },
   "file_extension": ".py",
   "mimetype": "text/x-python",
   "name": "python",
   "nbconvert_exporter": "python",
   "pygments_lexer": "ipython3",
   "version": "3.6.9"
  },
  "pycharm": {
   "stem_cell": {
    "cell_type": "raw",
    "metadata": {
     "collapsed": false
    },
    "source": []
   }
  }
 },
 "nbformat": 4,
 "nbformat_minor": 2
}
