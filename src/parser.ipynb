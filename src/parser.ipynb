{
 "cells": [
  {
   "cell_type": "markdown",
   "metadata": {},
   "source": [
    "**Importy**"
   ]
  },
  {
   "cell_type": "code",
   "execution_count": 83,
   "metadata": {
    "pycharm": {
     "name": "#%%\n"
    }
   },
   "outputs": [],
   "source": [
    "import regex\n",
    "import json, ast\n",
    "from csv import writer\n",
    "import pandas as pd \n",
    "import numpy as np\n",
    "from stop_words import get_stop_words\n",
    "import seaborn as sns\n",
    "import pickle\n"
   ]
  },
  {
   "cell_type": "code",
   "execution_count": 84,
   "metadata": {
    "pycharm": {
     "name": "#%%\n"
    }
   },
   "outputs": [],
   "source": [
    "import majka\n",
    "from majka import Majka\n",
    "morph = Majka('../data/w-lt.sk.fsa')\n",
    "\n",
    "morph.flags |= majka.ADD_DIACRITICS  # find word forms with diacritics\n",
    "morph.flags |= majka.DISALLOW_LOWERCASE  # do not enable to find lowercase variants\n",
    "morph.flags |= majka.IGNORE_CASE  # ignore the word case whatsoever\n",
    "morph.flags = 0  # unset all flags\n",
    "\n",
    "morph.tags = False  # return just the lemma, do not process the tags\n",
    "# morph.tags = True  # turn tag processing back on (default)\n",
    "\n",
    "morph.first_only = True  # return only the first entry\n",
    "# morph.first_only = False  # return all entries (default)"
   ]
  },
  {
   "cell_type": "code",
   "execution_count": 85,
   "metadata": {
    "pycharm": {
     "name": "#%%\n"
    }
   },
   "outputs": [
    {
     "name": "stderr",
     "output_type": "stream",
     "text": [
      "INFO:corpy.morphodita:Loading tagger.\n"
     ]
    }
   ],
   "source": [
    "from corpy.morphodita import Tagger\n",
    "tagger = Tagger(\"../data/slovak-morfflex-pdt-170914.tagger\")"
   ]
  },
  {
   "cell_type": "code",
   "execution_count": 86,
   "metadata": {
    "pycharm": {
     "name": "#%%\n"
    }
   },
   "outputs": [
    {
     "name": "stderr",
     "output_type": "stream",
     "text": [
      "[nltk_data] Downloading package punkt to\n",
      "[nltk_data]     C:\\Users\\rusna\\AppData\\Roaming\\nltk_data...\n",
      "[nltk_data]   Package punkt is already up-to-date!\n"
     ]
    },
    {
     "data": {
      "text/plain": [
       "True"
      ]
     },
     "execution_count": 86,
     "metadata": {},
     "output_type": "execute_result"
    }
   ],
   "source": [
    "import nltk\n",
    "nltk.download('punkt')\n",
    "# nltk.download('wordnet')"
   ]
  },
  {
   "cell_type": "markdown",
   "metadata": {},
   "source": [
    "**Premenne**"
   ]
  },
  {
   "cell_type": "code",
   "execution_count": 87,
   "metadata": {
    "pycharm": {
     "name": "#%%\n"
    }
   },
   "outputs": [],
   "source": [
    "# file s jednou page\n",
    "debug_filepath = \"../data/test_data_1page.xml\"\n",
    "# cely file\n",
    "input_filepath = \"../data/skwiki-latest-pages-articles.xml\"\n",
    "output_filepath = \"../data/anchors.csv\"\n",
    "THRESHOLD = 2"
   ]
  },
  {
   "cell_type": "markdown",
   "metadata": {},
   "source": [
    "**Funkcie**"
   ]
  },
  {
   "cell_type": "code",
   "execution_count": 88,
   "metadata": {},
   "outputs": [],
   "source": [
    "# otvorenie suboru, zadefinovanie hlavicky csv suboru a nasledne citanie s pracovanie po riadkoch\n",
    "def open_read(input_filepath,output_filepath,process):\n",
    "    with open(input_filepath, encoding='UTF-8') as input_file ,open(output_filepath, 'w+', encoding='UTF-8' ) as output_file:\n",
    "        csv_writer = writer(output_file, delimiter='|')\n",
    "        csv_writer.writerow([\"Link\", \"Alt_Text\"])\n",
    "        for line in input_file:\n",
    "            process(line,csv_writer)"
   ]
  },
  {
   "cell_type": "code",
   "execution_count": 89,
   "metadata": {
    "pycharm": {
     "name": "#%%\n"
    }
   },
   "outputs": [],
   "source": [
    "# využitie regexu na nájdene všetkých zhôd v riadku a zapísanie do csv súboru. \n",
    "def process(line,csv_writer):\n",
    "    regex_patern = '\\[\\[([^|\\]\\]]+)\\|?([^|\\]\\]]+)?\\]\\]'\n",
    "    \n",
    "    matches = regex.findall(regex_patern, line) \n",
    "    for match in matches:\n",
    "        list_matche = list(filter(None, match))\n",
    "        \n",
    "        \n",
    "        csv_writer.writerow(list_matche)"
   ]
  },
  {
   "cell_type": "code",
   "execution_count": 90,
   "metadata": {
    "pycharm": {
     "name": "#%%\n"
    }
   },
   "outputs": [],
   "source": [
    "# funkcia pre upravu textu\n",
    "def replace(text, regex_pattern, substitution):\n",
    "    if not isinstance(text, str):\n",
    "        return text\n",
    "    return regex.sub(regex_pattern,substitution,text)"
   ]
  },
  {
   "cell_type": "code",
   "execution_count": 91,
   "metadata": {
    "pycharm": {
     "name": "#%%\n"
    }
   },
   "outputs": [],
   "source": [
    "# funkcia pre tokenizovanie textu. Text -> Vety -> Slova (Tokeny) vyuzitim nltk \n",
    "def tokenizer_modded(text):\n",
    "#     print('text:', text)\n",
    "    if not pd.isna(text):\n",
    "#         print(type(text))\n",
    "        \n",
    "        if isinstance(text, int) or isinstance(text, float):\n",
    "            text = str(text)\n",
    "            \n",
    "    \n",
    "        sentences = nltk.sent_tokenize(text)\n",
    "#         print('sentence:',sentences)\n",
    "        tokens = []\n",
    "        for sent in sentences:\n",
    "            tokens.append(nltk.word_tokenize(sent))\n",
    "        flatten_list = [j for sub in tokens for j in sub] \n",
    "#         print('list',flatten_list)\n",
    "\n",
    "        result = [token.lower() for token in flatten_list if token not in \".,?!...-nan\"]\n",
    "\n",
    "        return result\n",
    "    else:\n",
    "        return []"
   ]
  },
  {
   "cell_type": "code",
   "execution_count": 92,
   "metadata": {
    "pycharm": {
     "name": "#%%\n"
    }
   },
   "outputs": [],
   "source": [
    "# lematizovanie textu s odstranenim stop slov. Vyuziva sa majka so Slovenskym Slovnikom\n",
    "def lematizer_modded(text):\n",
    "    stop_words = get_stop_words('sk')\n",
    "\n",
    "    result = []\n",
    "    for word in ast.literal_eval(text):\n",
    "        morph_word = morph.find(word)\n",
    "#         Aktualne slova ktore nemaju lemu, budu mat povodny tvar.\n",
    "        if morph_word:\n",
    "            result.append(morph_word[0]['lemma'])\n",
    "        else:\n",
    "            if hashmap_unlem[word] > THRESHOLD:\n",
    "                result.append(word)\n",
    "            \n",
    "    for word in result:  # odstranenie stopslov\n",
    "        if word in stop_words:\n",
    "            result.remove(word)\n",
    "    return result"
   ]
  },
  {
   "cell_type": "code",
   "execution_count": 93,
   "metadata": {
    "pycharm": {
     "name": "#%%\n"
    }
   },
   "outputs": [],
   "source": [
    "def fill_hashmap(text):\n",
    "  \n",
    "    for word in text:\n",
    "        morph_word = morph.find(word)\n",
    "        if morph_word == []:\n",
    "            \n",
    "            if not word in hashmap_unlem:\n",
    "                hashmap_unlem[word] = 1\n",
    "            else:\n",
    "#                 if hashmap_unlem[word] <= THRESHOLD:\n",
    "                hashmap_unlem[word] += 1 \n"
   ]
  },
  {
   "cell_type": "code",
   "execution_count": 94,
   "metadata": {
    "pycharm": {
     "name": "#%%\n"
    }
   },
   "outputs": [],
   "source": [
    "def process_data(df):\n",
    "    for column in df:\n",
    "        df[column] = df[column] \\\n",
    "        .apply(lambda x: x if x is not np.NaN else None) \\\n",
    "        .apply(replace,regex_pattern = r\"[\\\\\\/\\(\\):#.\\_?!]|({{.*}})|\\d*px\\d*png\\d*svg\\d*jpg\",substitution =' ')\\\n",
    "        .apply(replace,regex_pattern = r\"([ ]+)\",substitution =' ')\\\n",
    "        \n",
    "    return df"
   ]
  },
  {
   "cell_type": "code",
   "execution_count": 95,
   "metadata": {
    "pycharm": {
     "name": "#%%\n"
    }
   },
   "outputs": [],
   "source": [
    "def tokenize_data(df):\n",
    "    for column in df:\n",
    "        df[column] = df[column] \\\n",
    "        .apply(lambda text: tokenizer_modded(text) if text is not None else [] )\n",
    "        \n",
    "    return df"
   ]
  },
  {
   "cell_type": "code",
   "execution_count": 96,
   "metadata": {
    "pycharm": {
     "name": "#%%\n"
    }
   },
   "outputs": [],
   "source": [
    "def lemetize_data(df):\n",
    "    for column in df:\n",
    "        df[column] = df[column] \\\n",
    "        .apply(lambda text: lematizer_modded(text) )\n",
    "        \n",
    "    return df"
   ]
  },
  {
   "cell_type": "code",
   "execution_count": 97,
   "metadata": {
    "pycharm": {
     "name": "#%%\n"
    }
   },
   "outputs": [],
   "source": [
    "def create_hashmap(df):\n",
    "    for column in df:\n",
    "        df[column] \\\n",
    "        .apply(lambda text: fill_hashmap(text) )\n"
   ]
  },
  {
   "cell_type": "markdown",
   "metadata": {},
   "source": [
    "**Priebeh spracovania**"
   ]
  },
  {
   "cell_type": "code",
   "execution_count": 98,
   "metadata": {
    "pycharm": {
     "name": "#%%\n"
    }
   },
   "outputs": [],
   "source": [
    "open_read(debug_filepath,output_filepath,process)"
   ]
  },
  {
   "cell_type": "code",
   "execution_count": 99,
   "metadata": {
    "pycharm": {
     "name": "#%%\n"
    }
   },
   "outputs": [],
   "source": [
    "# spracovanie suboru po chunkoch a postupne ukladanie vysledkov do csv\n",
    "hashmap_unlem = {}  \n",
    "for index,chunk in enumerate(pd.read_csv(output_filepath, chunksize=500, delimiter='|')):\n",
    "    \n",
    "\n",
    "    process_data(chunk)\n",
    "    chunk = tokenize_data(chunk)\n",
    "    create_hashmap(chunk)\n",
    "    chunk.to_csv('../data/tokenized_data.csv', mode = 'a+', index=False, header=False, encoding='UTF-8')"
   ]
  },
  {
   "cell_type": "code",
   "execution_count": 100,
   "metadata": {
    "pycharm": {
     "name": "#%%\n"
    }
   },
   "outputs": [],
   "source": [
    "for index,chunk in enumerate(pd.read_csv('../data/tokenized_data.csv',chunksize=500, names=[\"Link\",\"Alt_Text\"])):\n",
    "    \n",
    "\n",
    "    lemetize_data(chunk)\n",
    "    chunk.to_csv('../data/done.csv', mode = 'a+', index=False,header=False, encoding='UTF-8')\n"
   ]
  },
  {
   "cell_type": "code",
   "execution_count": 105,
   "metadata": {},
   "outputs": [],
   "source": [
    "with open('../data/hashmap.json', 'w') as fp:\n",
    "    json.dump(hashmap_unlem, fp)"
   ]
  },
  {
   "cell_type": "markdown",
   "metadata": {},
   "source": [
    "## Analyza dat"
   ]
  },
  {
   "cell_type": "code",
   "execution_count": null,
   "metadata": {},
   "outputs": [],
   "source": [
    "data = pd.read_csv('../data/done.csv', names=[\"Link\",\"Alt_Text\"])"
   ]
  },
  {
   "cell_type": "code",
   "execution_count": null,
   "metadata": {},
   "outputs": [],
   "source": [
    "# sucet vsetkych slov v ramci stlpcov\n",
    "pocet = 0\n",
    "for column in data:\n",
    "    for i in data[column]:\n",
    "        for x in (ast.literal_eval(i)):\n",
    "            pocet= pocet +1\n",
    "    print(f\"Stlpec: {column}, Pocet slov: {pocet}\")\n",
    "    pocet = 0\n",
    "    \n",
    "        "
   ]
  },
  {
   "cell_type": "code",
   "execution_count": null,
   "metadata": {},
   "outputs": [],
   "source": [
    "# pocet slov ktore boli lematizovane v rmaci stlpcov\n",
    "pocet = 0\n",
    "for column in data:\n",
    "    for i in data[column]:\n",
    "        for x in (ast.literal_eval(i)):\n",
    "            if not x in hashmap_unlem:\n",
    "                pocet+=1\n",
    "    print(f\"Stlpec: {column}, Pocet lematizovanych slov: {pocet}\")\n",
    "    pocet = 0\n",
    "    "
   ]
  },
  {
   "cell_type": "code",
   "execution_count": null,
   "metadata": {},
   "outputs": [],
   "source": [
    "# pocet slov ktore neboli lematizovane ale ich pocetnost prekrocila threshold\n",
    "pocet = 0\n",
    "for column in data:\n",
    "    for i in data[column]:\n",
    "        for x in (ast.literal_eval(i)):\n",
    "            if x in hashmap_unlem:\n",
    "                pocet+=1\n",
    "    print(f\"Stlpec: {column}, Pocet nelematizovanych slov: {pocet}\")\n",
    "    pocet = 0\n",
    "    "
   ]
  },
  {
   "cell_type": "code",
   "execution_count": null,
   "metadata": {},
   "outputs": [],
   "source": [
    "# pocet uniq slov ktore neprekrocili threshold\n",
    "counter_removed = 0\n",
    "counter_saved = 0\n",
    "counter_total = 0\n",
    "for i in hashmap_unlem.values():\n",
    "    counter_total+= i \n",
    "    if i < 2:\n",
    "        counter_removed +=1\n",
    "    if i >= 2:\n",
    "        counter_saved +=1\n",
    "print(f\"Pocet uniq slov, ktorych vyskyt je mensi nez threshold: {counter_removed}\")      \n",
    "print(f\"Pocet uniq slov, ktorych vyskyt je vacsi nez threshold: {counter_saved}\")        \n",
    "print(f\"Sucet slov, ktore nemaju lemu: {counter_total}\")           "
   ]
  },
  {
   "cell_type": "code",
   "execution_count": null,
   "metadata": {
    "scrolled": true
   },
   "outputs": [],
   "source": [
    "\n",
    "df_histogram = pd.DataFrame({'word':list(hashmap_unlem.keys()),'count':list(hashmap_unlem.values())})"
   ]
  },
  {
   "cell_type": "code",
   "execution_count": null,
   "metadata": {},
   "outputs": [],
   "source": [
    "sns.histplot(df_histogram['count'])"
   ]
  },
  {
   "cell_type": "code",
   "execution_count": null,
   "metadata": {},
   "outputs": [],
   "source": [
    "sns.boxplot(df_histogram['count'])"
   ]
  },
  {
   "cell_type": "code",
   "execution_count": null,
   "metadata": {},
   "outputs": [],
   "source": []
  },
  {
   "cell_type": "code",
   "execution_count": null,
   "metadata": {},
   "outputs": [],
   "source": []
  },
  {
   "cell_type": "code",
   "execution_count": null,
   "metadata": {},
   "outputs": [],
   "source": []
  },
  {
   "cell_type": "code",
   "execution_count": null,
   "metadata": {},
   "outputs": [],
   "source": []
  }
 ],
 "metadata": {
  "kernelspec": {
   "display_name": "Python 3",
   "language": "python",
   "name": "python3"
  },
  "language_info": {
   "codemirror_mode": {
    "name": "ipython",
    "version": 3
   },
   "file_extension": ".py",
   "mimetype": "text/x-python",
   "name": "python",
   "nbconvert_exporter": "python",
   "pygments_lexer": "ipython3",
   "version": "3.6.9"
  },
  "pycharm": {
   "stem_cell": {
    "cell_type": "raw",
    "metadata": {
     "collapsed": false
    },
    "source": []
   }
  }
 },
 "nbformat": 4,
 "nbformat_minor": 2
}
