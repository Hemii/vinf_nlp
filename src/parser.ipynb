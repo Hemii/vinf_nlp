{
 "cells": [
  {
   "cell_type": "markdown",
   "metadata": {},
   "source": [
    "**Importy**"
   ]
  },
  {
   "cell_type": "code",
   "execution_count": 2,
   "metadata": {},
   "outputs": [],
   "source": [
    "import regex\n",
    "from csv import writer\n",
    "import pandas as pd \n",
    "import numpy as np\n",
    "from stop_words import get_stop_words"
   ]
  },
  {
   "cell_type": "code",
   "execution_count": 3,
   "metadata": {},
   "outputs": [],
   "source": [
    "import majka\n",
    "from majka import Majka\n",
    "morph = Majka('../data/w-lt.sk.fsa')\n",
    "\n",
    "morph.flags |= majka.ADD_DIACRITICS  # find word forms with diacritics\n",
    "morph.flags |= majka.DISALLOW_LOWERCASE  # do not enable to find lowercase variants\n",
    "morph.flags |= majka.IGNORE_CASE  # ignore the word case whatsoever\n",
    "morph.flags = 0  # unset all flags\n",
    "\n",
    "morph.tags = False  # return just the lemma, do not process the tags\n",
    "# morph.tags = True  # turn tag processing back on (default)\n",
    "\n",
    "morph.first_only = True  # return only the first entry\n",
    "# morph.first_only = False  # return all entries (default)"
   ]
  },
  {
   "cell_type": "code",
   "execution_count": 4,
   "metadata": {},
   "outputs": [
    {
     "name": "stderr",
     "output_type": "stream",
     "text": [
      "INFO:corpy.morphodita:Loading tagger.\n"
     ]
    }
   ],
   "source": [
    "from corpy.morphodita import Tagger\n",
    "tagger = Tagger(\"../data/slovak-morfflex-pdt-170914.tagger\")"
   ]
  },
  {
   "cell_type": "code",
   "execution_count": 5,
   "metadata": {},
   "outputs": [
    {
     "name": "stderr",
     "output_type": "stream",
     "text": [
      "[nltk_data] Downloading package punkt to\n",
      "[nltk_data]     C:\\Users\\rusna\\AppData\\Roaming\\nltk_data...\n",
      "[nltk_data]   Package punkt is already up-to-date!\n",
      "[nltk_data] Downloading package wordnet to\n",
      "[nltk_data]     C:\\Users\\rusna\\AppData\\Roaming\\nltk_data...\n",
      "[nltk_data]   Package wordnet is already up-to-date!\n"
     ]
    },
    {
     "data": {
      "text/plain": [
       "True"
      ]
     },
     "execution_count": 5,
     "metadata": {},
     "output_type": "execute_result"
    }
   ],
   "source": [
    "import nltk\n",
    "nltk.download('punkt')\n",
    "nltk.download('wordnet')"
   ]
  },
  {
   "cell_type": "markdown",
   "metadata": {},
   "source": [
    "**Premenne**"
   ]
  },
  {
   "cell_type": "code",
   "execution_count": 6,
   "metadata": {},
   "outputs": [],
   "source": [
    "debug_filepath = \"../data/test_data_1page.xml\"\n",
    "input_filepath = \"../data/skwiki-latest-pages-articles.xml\"\n",
    "output_filepath = \"../data/anchors.csv\""
   ]
  },
  {
   "cell_type": "markdown",
   "metadata": {},
   "source": [
    "**Funkcie**"
   ]
  },
  {
   "cell_type": "code",
   "execution_count": 7,
   "metadata": {
    "pycharm": {
     "is_executing": true,
     "name": "#%% md\n"
    }
   },
   "outputs": [],
   "source": [
    "def open_read(input_filepath,output_filepath,process):\n",
    "    with open(input_filepath, encoding='UTF-8') as input_file ,open(output_filepath, 'w+', encoding='UTF-8' ) as output_file:\n",
    "        csv_writer = writer(output_file, delimiter='|')\n",
    "        csv_writer.writerow([\"Link\", \"Alt_Text\"])\n",
    "        for line in input_file:\n",
    "            process(line,csv_writer)"
   ]
  },
  {
   "cell_type": "code",
   "execution_count": 8,
   "metadata": {},
   "outputs": [],
   "source": [
    "def process(line,csv_writer):\n",
    "    regex_patern = '\\[\\[([\\p{L}\\p{Pc}\\p{Po}\\p{Pi}\\p{Pf}\\p{Ps}\\p{Pd}\\p{Sk}\\p{So}\\p{C}\\p{N}\\p{Z}})= ]+)\\|?([\\p{L}\\p{Pc}\\p{Po}\\p{Pi}\\p{Pf}\\p{Ps}\\p{Pd}\\p{Sk}\\p{So}\\p{C}\\p{N}\\p{Z}})= ]+)?\\]\\]'\n",
    "    matches = regex.findall(regex_patern, line)\n",
    "    for match in matches:\n",
    "        list_matche = list(filter(None, match))\n",
    "        \n",
    "#         print(list_matche)\n",
    "        \n",
    "        csv_writer.writerow(list_matche)"
   ]
  },
  {
   "cell_type": "code",
   "execution_count": 9,
   "metadata": {},
   "outputs": [],
   "source": [
    "def replace(text, regex_pattern, substitution):\n",
    "    if not isinstance(text, str):\n",
    "        return text\n",
    "    return regex.sub(regex_pattern,substitution,text)"
   ]
  },
  {
   "cell_type": "code",
   "execution_count": 10,
   "metadata": {},
   "outputs": [],
   "source": [
    "def tokenizer_modded(text):\n",
    "    sentences = nltk.sent_tokenize(text)\n",
    "    tokens = []\n",
    "    for sent in sentences:\n",
    "        tokens.append(nltk.word_tokenize(sent))\n",
    "    flatten_list = [j for sub in tokens for j in sub] \n",
    "    result = [token.lower() for token in flatten_list if token not in \".,?!...-\"]\n",
    "    \n",
    "    return result"
   ]
  },
  {
   "cell_type": "code",
   "execution_count": 11,
   "metadata": {},
   "outputs": [],
   "source": [
    "def tag(word):\n",
    "    result=[]\n",
    "    tokens = list(tagger.tag(word))\n",
    "#     for i in range(len(tokens)):\n",
    "#         if any(s in tokens[i].tag for s in need):\n",
    "#             result.append(tokens[i].word)\n",
    "            \n",
    "    return tokens"
   ]
  },
  {
   "cell_type": "code",
   "execution_count": 12,
   "metadata": {},
   "outputs": [],
   "source": [
    "def lematizer_modded(text):\n",
    "#     stop_words = get_stop_words('czech')\n",
    "#     stop_words2 = ['a','s',' s',' a',' v','1','2','3','4','5','6','7','8','9','0']\n",
    "#     stop_words = stop_words + stop_words2\n",
    "    result = []\n",
    "    for word in text:\n",
    "        morph_word = morph.find(word)\n",
    "        if morph_word:\n",
    "            result.append(morph_word[0]['lemma'])\n",
    "        else:\n",
    "            result.append(word)\n",
    "#     for word in result:  # iterating on a copy since removing will mess things up\n",
    "#         if word in stop_words:\n",
    "#             result.remove(word)\n",
    "    return result"
   ]
  },
  {
   "cell_type": "markdown",
   "metadata": {},
   "source": [
    "**Priebeh spracovania**"
   ]
  },
  {
   "cell_type": "code",
   "execution_count": 13,
   "metadata": {},
   "outputs": [],
   "source": [
    "open_read(debug_filepath,output_filepath,process)"
   ]
  },
  {
   "cell_type": "code",
   "execution_count": 14,
   "metadata": {},
   "outputs": [
    {
     "name": "stdout",
     "output_type": "stream",
     "text": [
      "chunk ------------------------------------------------------------------------------ 0\n",
      "                                                 Link         Alt_Text\n",
      "0               [šablóna, hlavná, stránka, aktualita]             None\n",
      "1   [special, permalink, preview, hlavná, stránka,...          [návrh]\n",
      "2                           [wikipédia, o, wikipédii]   [o, wikipédii]\n",
      "3                               [wikipédia, príručka]       [príručka]\n",
      "4                                      [pomoc, obsah]          [pomoc]\n",
      "5                  [wikipédia, zoznam, dobrý, článok]  [dobrý, článok]\n",
      "6                            [kategória, wikiportály]         [portál]\n",
      "7                    [kategória, základný, kategória]      [kategória]\n",
      "8                          [wikipédia, rýchly, index]    [a, z, index]\n",
      "9                                [súbor, bluebg, png]          [link=]\n",
      "10                                                 []             None\n",
      "11                               [súbor, bluebg, png]          [link=]\n",
      "12                               [súbor, bluebg, png]          [link=]\n",
      "13                               [súbor, bluebg, png]          [link=]\n",
      "14                               [súbor, bluebg, png]          [link=]\n",
      "chunk ------------------------------------------------------------------------------ 1\n",
      "                                     Link                      Alt_Text\n",
      "15                      [hlavná, stránka]                          None\n",
      "16                       [redaktor, liso]                        [liso]\n",
      "17   [obrázok, solar, system, scale, jpg]   [solar, system, scale, jpg]\n",
      "18                    [redaktor, valasek]                     [valasek]\n",
      "19                   [obrázok, wiki, png]                   [wiki, png]\n",
      "20                       [redaktor, liso]                        [liso]\n",
      "21              [obrázok, go, small, png]              [go, small, png]\n",
      "22                   [redaktor, ujo, ivo]                    [ujo, ivo]\n",
      "23                    [obrázok, cad, jpg]                    [cad, jpg]\n",
      "24                   [redaktor, ujo, ivo]                    [ujo, ivo]\n",
      "25                  [obrázok, boole, jpg]                  [boole, jpg]\n",
      "26                   [redaktor, ujo, ivo]                    [ujo, ivo]\n",
      "27                 [obrázok, turing, jpg]                 [turing, jpg]\n",
      "28                    [redaktor, kuba, g]                     [kuba, g]\n",
      "29  [obrázok, slovakia, flag, large, png]  [slovakia, flag, large, png]\n",
      "chunk ------------------------------------------------------------------------------ 2\n",
      "                             Link               Alt_Text\n",
      "30            [redaktor, kuba, g]              [kuba, g]\n",
      "31  [obrázok, slovakia, coa, png]   [slovakia, coa, png]\n",
      "32            [redaktor, valasek]              [valasek]\n",
      "33    [obrázok, wiki, plain, png]     [wiki, plain, png]\n",
      "34                   [user, beno]                 [beno]\n",
      "35   [image, nb, tableimage, png]  [nb, tableimage, png]\n",
      "36                   [user, beno]                 [beno]\n",
      "37   [image, nb, tableimage, png]  [nb, tableimage, png]\n",
      "38                   [user, beno]                 [beno]\n",
      "39   [image, be, tableimage, png]  [be, tableimage, png]\n",
      "40                   [user, beno]                 [beno]\n",
      "41   [image, zr, tableimage, png]  [zr, tableimage, png]\n",
      "42                   [user, beno]                 [beno]\n",
      "43   [image, zn, tableimage, png]  [zn, tableimage, png]\n",
      "44                   [user, beno]                 [beno]\n",
      "chunk ------------------------------------------------------------------------------ 3\n",
      "                            Link               Alt_Text\n",
      "45   [image, y, tableimage, png]   [y, tableimage, png]\n",
      "46                  [user, beno]                 [beno]\n",
      "47  [image, xe, tableimage, png]  [xe, tableimage, png]\n",
      "48                  [user, beno]                 [beno]\n",
      "49   [image, v, tableimage, png]   [v, tableimage, png]\n",
      "50                  [user, beno]                 [beno]\n",
      "51  [image, ty, tableimage, png]  [ty, tableimage, png]\n",
      "52                  [user, beno]                 [beno]\n",
      "53  [image, te, tableimage, png]  [te, tableimage, png]\n",
      "54                  [user, beno]                 [beno]\n",
      "55  [image, tc, tableimage, png]  [tc, tableimage, png]\n",
      "56                  [user, beno]                 [beno]\n",
      "57  [image, tc, tableimage, png]  [tc, tableimage, png]\n",
      "58                  [user, beno]                 [beno]\n",
      "59   [image, s, tableimage, png]   [s, tableimage, png]\n",
      "chunk ------------------------------------------------------------------------------ 4\n",
      "                            Link               Alt_Text\n",
      "60                  [user, beno]                 [beno]\n",
      "61  [image, sr, tableimage, png]  [sr, tableimage, png]\n",
      "62                  [user, beno]                 [beno]\n",
      "63  [image, sn, tableimage, png]  [sn, tableimage, png]\n",
      "64                  [user, beno]                 [beno]\n",
      "65  [image, si, tableimage, png]  [si, tableimage, png]\n",
      "66                  [user, beno]                 [beno]\n",
      "67  [image, se, tableimage, png]  [se, tableimage, png]\n",
      "68                  [user, beno]                 [beno]\n",
      "69  [image, sc, tableimage, png]  [sc, tableimage, png]\n",
      "70                  [user, beno]                 [beno]\n",
      "71  [image, sb, tableimage, png]  [sb, tableimage, png]\n",
      "72                  [user, beno]                 [beno]\n",
      "73  [image, ru, tableimage, png]  [ru, tableimage, png]\n",
      "74                  [user, beno]                 [beno]\n",
      "chunk ------------------------------------------------------------------------------ 5\n",
      "                            Link               Alt_Text\n",
      "75  [image, rh, tableimage, png]  [rh, tableimage, png]\n",
      "76                  [user, beno]                 [beno]\n",
      "77  [image, rb, tableimage, png]  [rb, tableimage, png]\n",
      "78                  [user, beno]                 [beno]\n",
      "79   [image, p, tableimage, png]   [p, tableimage, png]\n",
      "80                  [user, beno]                 [beno]\n",
      "81  [image, pd, tableimage, png]  [pd, tableimage, png]\n",
      "82                  [user, beno]                 [beno]\n",
      "83   [image, o, tableimage, png]   [o, tableimage, png]\n",
      "84                  [user, beno]                 [beno]\n",
      "85   [image, n, tableimage, png]   [n, tableimage, png]\n",
      "86                  [user, beno]                 [beno]\n",
      "87  [image, ni, tableimage, png]  [ni, tableimage, png]\n",
      "88                  [user, beno]                 [beno]\n",
      "89  [image, on, tableimage, png]  [on, tableimage, png]\n",
      "chunk ------------------------------------------------------------------------------ 6\n",
      "                             Link               Alt_Text\n",
      "90                   [user, beno]                 [beno]\n",
      "91   [image, nb, tableimage, png]  [nb, tableimage, png]\n",
      "92                   [user, beno]                 [beno]\n",
      "93   [image, na, tableimage, png]  [na, tableimage, png]\n",
      "94                   [user, beno]                 [beno]\n",
      "95   [image, mo, tableimage, png]  [mo, tableimage, png]\n",
      "96                   [user, beno]                 [beno]\n",
      "97   [image, mn, tableimage, png]  [mn, tableimage, png]\n",
      "98                   [user, beno]                 [beno]\n",
      "99   [image, mg, tableimage, png]  [mg, tableimage, png]\n",
      "100                  [user, beno]                 [beno]\n",
      "101  [image, li, tableimage, png]  [li, tableimage, png]\n",
      "102                  [user, beno]                 [beno]\n",
      "103   [image, k, tableimage, png]   [k, tableimage, png]\n",
      "104                  [user, beno]                 [beno]\n",
      "chunk ------------------------------------------------------------------------------ 7\n",
      "                             Link               Alt_Text\n",
      "105  [image, kr, tableimage, png]  [kr, tableimage, png]\n",
      "106                  [user, beno]                 [beno]\n",
      "107   [image, i, tableimage, png]   [i, tableimage, png]\n",
      "108                  [user, beno]                 [beno]\n",
      "109  [image, in, tableimage, png]  [in, tableimage, png]\n",
      "110                  [user, beno]                 [beno]\n",
      "111   [image, h, tableimage, png]   [h, tableimage, png]\n",
      "112                  [user, beno]                 [beno]\n",
      "113  [image, he, tableimage, png]  [he, tableimage, png]\n",
      "114                  [user, beno]                 [beno]\n",
      "115  [image, ge, tableimage, png]  [ge, tableimage, png]\n",
      "116                  [user, beno]                 [beno]\n",
      "117  [image, ga, tableimage, png]  [ga, tableimage, png]\n",
      "118                  [user, beno]                 [beno]\n",
      "119   [image, f, tableimage, png]   [f, tableimage, png]\n",
      "chunk ------------------------------------------------------------------------------ 8\n",
      "                             Link               Alt_Text\n",
      "120                  [user, beno]                 [beno]\n",
      "121  [image, fe, tableimage, png]  [fe, tableimage, png]\n",
      "122                  [user, beno]                 [beno]\n",
      "123  [image, cu, tableimage, png]  [cu, tableimage, png]\n",
      "124                  [user, beno]                 [beno]\n",
      "125   [image, c, tableimage, png]   [c, tableimage, png]\n",
      "126                  [user, beno]                 [beno]\n",
      "127  [image, cs, tableimage, png]  [cs, tableimage, png]\n",
      "128                  [user, beno]                 [beno]\n",
      "129  [image, cr, tableimage, png]  [cr, tableimage, png]\n",
      "130                  [user, beno]                 [beno]\n",
      "131  [image, co, tableimage, png]  [co, tableimage, png]\n",
      "132                  [user, beno]                 [beno]\n",
      "133  [image, cl, tableimage, png]  [cl, tableimage, png]\n",
      "134                  [user, beno]                 [beno]\n"
     ]
    },
    {
     "name": "stdout",
     "output_type": "stream",
     "text": [
      "chunk ------------------------------------------------------------------------------ 9\n",
      "                             Link               Alt_Text\n",
      "135  [image, cd, tableimage, png]  [cd, tableimage, png]\n",
      "136                  [user, beno]                 [beno]\n",
      "137  [image, ca, tableimage, png]  [ca, tableimage, png]\n",
      "138                  [user, beno]                 [beno]\n",
      "139   [image, b, tableimage, png]   [b, tableimage, png]\n",
      "140                  [user, beno]                 [beno]\n",
      "141  [image, br, tableimage, png]  [br, tableimage, png]\n",
      "142                  [user, beno]                 [beno]\n",
      "143  [image, be, tableimage, png]  [be, tableimage, png]\n",
      "144                  [user, beno]                 [beno]\n",
      "145  [image, as, tableimage, png]  [as, tableimage, png]\n",
      "146                  [user, beno]                 [beno]\n",
      "147  [image, ar, tableimage, png]  [ar, tableimage, png]\n",
      "148                  [user, beno]                 [beno]\n",
      "149  [image, al, tableimage, png]  [al, tableimage, png]\n",
      "chunk ------------------------------------------------------------------------------ 10\n",
      "                             Link               Alt_Text\n",
      "150                  [user, beno]                 [beno]\n",
      "151  [image, ag, tableimage, png]  [ag, tableimage, png]\n"
     ]
    }
   ],
   "source": [
    "for index,chunk in enumerate(pd.read_csv(output_filepath, chunksize=15, delimiter='|')):\n",
    "    chunk['Link'] = chunk['Link'] \\\n",
    "    .apply(lambda x: x if x is not np.NaN else None) \\\n",
    "    .apply(replace,regex_pattern = r\"[\\\\\\/:#.\\_-]|({{.*}})|\\d*px|\\d\",substitution =' ')\\\n",
    "    .apply(replace,regex_pattern = r\"([ ]+)\",substitution =' ')\\\n",
    "    .map(lambda text: lematizer_modded(tokenizer_modded(text)))\n",
    "    \n",
    "    chunk['Alt_Text'] = chunk['Alt_Text'] \\\n",
    "    .apply(lambda x: x if x is not np.NaN else None) \\\n",
    "    .apply(replace,regex_pattern = r\"([ ]+)\",substitution =' ')\\\n",
    "    .apply(replace,regex_pattern = r\"[\\\\\\/:#.\\_-]|({{.*}})|\\d*px|\\d\",substitution =' ')\\\n",
    "    .map(lambda text: lematizer_modded(tokenizer_modded(text)) if text is not None else None )\n",
    "    \n",
    "    \n",
    "    print('chunk ------------------------------------------------------------------------------',index)    \n",
    "    print(chunk)\n",
    "    chunk.to_csv('../data/done.csv', mode = 'a+', index=False, encoding='UTF-8')\n"
   ]
  }
 ],
 "metadata": {
  "kernelspec": {
   "display_name": "Python 3",
   "language": "python",
   "name": "python3"
  },
  "language_info": {
   "codemirror_mode": {
    "name": "ipython",
    "version": 3
   },
   "file_extension": ".py",
   "mimetype": "text/x-python",
   "name": "python",
   "nbconvert_exporter": "python",
   "pygments_lexer": "ipython3",
   "version": "3.6.9"
  },
  "pycharm": {
   "stem_cell": {
    "cell_type": "raw",
    "metadata": {
     "collapsed": false
    },
    "source": []
   }
  }
 },
 "nbformat": 4,
 "nbformat_minor": 1
}
